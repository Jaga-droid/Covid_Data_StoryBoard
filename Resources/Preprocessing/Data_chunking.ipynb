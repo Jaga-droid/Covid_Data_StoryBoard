{
 "cells": [
  {
   "cell_type": "code",
   "execution_count": 1,
   "metadata": {},
   "outputs": [],
   "source": [
    "import pandas as pd\n",
    "import numpy as np\n",
    "import seaborn as sns"
   ]
  },
  {
   "cell_type": "code",
   "execution_count": 2,
   "metadata": {},
   "outputs": [],
   "source": [
    "full_data=pd.read_csv(\"https://raw.githubusercontent.com/owid/covid-19-data/master/public/data/owid-covid-data.csv\")"
   ]
  },
  {
   "cell_type": "code",
   "execution_count": null,
   "metadata": {},
   "outputs": [],
   "source": [
    "full_data.columns"
   ]
  },
  {
   "cell_type": "code",
   "execution_count": 22,
   "metadata": {},
   "outputs": [],
   "source": [
    "cases=pd.read_csv('https://raw.githubusercontent.com/owid/covid-19-data/master/public/data/cases_deaths/new_cases.csv')\n",
    "cases_total=pd.read_csv('https://raw.githubusercontent.com/owid/covid-19-data/master/public/data/cases_deaths/total_cases.csv')\n",
    "total_cases=pd.read_csv('https://raw.githubusercontent.com/owid/covid-19-data/master/public/data/cases_deaths/total_cases.csv')\n",
    "new_cases=pd.read_csv('https://raw.githubusercontent.com/owid/covid-19-data/master/public/data/cases_deaths/new_cases.csv')\n",
    "total_deaths=pd.read_csv('https://raw.githubusercontent.com/owid/covid-19-data/master/public/data/cases_deaths/total_deaths.csv')\n",
    "new_deaths=pd.read_csv('https://raw.githubusercontent.com/owid/covid-19-data/master/public/data/cases_deaths/new_deaths.csv')\n",
    "gdp_per_capita=full_data[['location','gdp_per_capita']]\n",
    "total_vaccination=full_data[['date','location','total_vaccinations']]\n",
    "new_vaccination=full_data[['date','location','new_vaccinations']]"
   ]
  },
  {
   "cell_type": "code",
   "execution_count": null,
   "metadata": {},
   "outputs": [],
   "source": [
    "from functools import reduce\n",
    "df_list=[]\n",
    "for i in total_vaccination['location'].unique():\n",
    "    df1=total_vaccination[total_vaccination['location']==i]\n",
    "    # df1=df1.fillna(0)\n",
    "    df1_temp=pd.DataFrame()\n",
    "    df1_temp['date']=df1['date']\n",
    "    df1_temp[i]=list(df1['total_vaccinations'].values)\n",
    "    df1_temp=df1_temp.reset_index(drop=True)\n",
    "    df_list.append(df1_temp)\n",
    "\n",
    "\n",
    "final_vaccination_total=reduce(lambda x,y: pd.merge(x,y, on='date', how='outer'),df_list)"
   ]
  },
  {
   "cell_type": "code",
   "execution_count": null,
   "metadata": {},
   "outputs": [],
   "source": [
    "df_list=[]\n",
    "for i in new_vaccination['location'].unique():\n",
    "    df1=new_vaccination[new_vaccination['location']==i]\n",
    "    df1=df1.fillna(0)\n",
    "    df1_temp=pd.DataFrame()\n",
    "    df1_temp['date']=df1['date']\n",
    "    df1_temp[i]=list(df1['new_vaccinations'].values)\n",
    "    df1_temp=df1_temp.reset_index(drop=True)\n",
    "    df_list.append(df1_temp)\n",
    "\n",
    "\n",
    "new_vaccinations_total=reduce(lambda x,y: pd.merge(x,y, on='date', how='outer'),df_list)"
   ]
  },
  {
   "cell_type": "code",
   "execution_count": null,
   "metadata": {},
   "outputs": [],
   "source": [
    "final_vaccination_total=final_vaccination_total.fillna(0)"
   ]
  },
  {
   "cell_type": "code",
   "execution_count": null,
   "metadata": {},
   "outputs": [],
   "source": [
    "new_vaccinations_total=new_vaccinations_total.fillna(0)"
   ]
  },
  {
   "cell_type": "code",
   "execution_count": null,
   "metadata": {},
   "outputs": [],
   "source": [
    "final_vaccination_total.to_csv('../DataSet/DataChunksets/total_vaccinations.csv')\n",
    "new_vaccinations_total.to_csv('../DataSet/DataChunksets/new_vaccinations.csv')\n",
    "gdp_per_capita.to_csv('../DataSet/DataChunksets/gdp_per_capita.csv')\n",
    "total_cases.to_csv('../DataSet/DataChunksets/total_cases.csv')\n",
    "total_deaths.to_csv('../DataSet/DataChunksets/total_deaths.csv')\n",
    "new_cases.to_csv('../DataSet/DataChunksets/new_cases.csv')\n",
    "new_deaths.to_csv('../DataSet/DataChunksets/new_deaths.csv')\n"
   ]
  },
  {
   "cell_type": "code",
   "execution_count": null,
   "metadata": {},
   "outputs": [],
   "source": [
    "# total=full_data.copy()\n",
    "# total=total.fillna(0)\n",
    "# total=total[['total_cases','location','continent']].groupby('location').mean()\n",
    "# total.to_csv('../DataSet/total.csv')"
   ]
  },
  {
   "cell_type": "code",
   "execution_count": null,
   "metadata": {},
   "outputs": [],
   "source": [
    "for i in total.index.unique():\n",
    "    if 'America' in i:\n",
    "        print(i)"
   ]
  },
  {
   "cell_type": "code",
   "execution_count": null,
   "metadata": {},
   "outputs": [],
   "source": [
    "for i in full_data['continent'].unique():\n",
    "    print(i)"
   ]
  },
  {
   "cell_type": "code",
   "execution_count": null,
   "metadata": {},
   "outputs": [],
   "source": [
    "full_data.dtypes"
   ]
  },
  {
   "cell_type": "code",
   "execution_count": null,
   "metadata": {},
   "outputs": [],
   "source": [
    "\n"
   ]
  },
  {
   "cell_type": "code",
   "execution_count": null,
   "metadata": {},
   "outputs": [],
   "source": []
  },
  {
   "cell_type": "code",
   "execution_count": 10,
   "metadata": {},
   "outputs": [],
   "source": []
  },
  {
   "cell_type": "code",
   "execution_count": 11,
   "metadata": {},
   "outputs": [],
   "source": [
    "full_data=pd.read_csv(\"https://raw.githubusercontent.com/owid/covid-19-data/master/public/data/owid-covid-data.csv\")\n",
    "akarshan_year=full_data[['date','continent','total_cases']]\n",
    "akarshan_year= akarshan_year[akarshan_year['continent'].notna()]\n",
    "akarshan_year=akarshan_year.fillna(0)\n",
    "akarshan_year['date']=pd.to_datetime(akarshan_year['date'], format=\"%Y/%m/%d\")\n",
    "akarshan_year['year']=akarshan_year['date'].dt.strftime('%Y')\n",
    "akarshan_year_2020=akarshan_year[akarshan_year['year']=='2020']\n",
    "akarshan_year_2021=akarshan_year[akarshan_year['year']=='2021']\n",
    "akarshan_year_2022=akarshan_year[akarshan_year['year']=='2022']\n",
    "akarshan_year_2023=akarshan_year[akarshan_year['year']=='2023']\n",
    "akarshan_year_2020=akarshan_year_2020[['continent','total_cases']].groupby('continent').mean()\n",
    "akarshan_year_2021=akarshan_year_2021[['continent','total_cases']].groupby('continent').mean()\n",
    "akarshan_year_2022=akarshan_year_2022[['continent','total_cases']].groupby('continent').mean()\n",
    "akarshan_year_2023=akarshan_year_2023[['continent','total_cases']].groupby('continent').mean()\n",
    "akarshan_final_1=pd.concat([akarshan_year_2020.T,akarshan_year_2021.T,akarshan_year_2022.T,akarshan_year_2023.T])\n",
    "akarshan_final_1['year']=['2020','2021','2022','2023']\n",
    "akarshan_final_1.to_csv('akarshan_1.csv')"
   ]
  },
  {
   "cell_type": "code",
   "execution_count": 13,
   "metadata": {},
   "outputs": [],
   "source": []
  },
  {
   "cell_type": "code",
   "execution_count": 26,
   "metadata": {},
   "outputs": [],
   "source": [
    "all_cases=pd.read_csv('https://raw.githubusercontent.com/owid/covid-19-data/master/public/data/cases_deaths/total_cases.csv')\n",
    "total_cases=all_cases.copy()\n",
    "total_cases=total_cases[['date','Africa','Asia','Europe','North America','Oceania','South America']]\n",
    "total_cases=total_cases.fillna(0)\n",
    "total_cases.to_csv('akarshan_2.csv')\n"
   ]
  },
  {
   "cell_type": "code",
   "execution_count": 28,
   "metadata": {},
   "outputs": [],
   "source": []
  },
  {
   "cell_type": "code",
   "execution_count": null,
   "metadata": {},
   "outputs": [],
   "source": []
  }
 ],
 "metadata": {
  "kernelspec": {
   "display_name": "Python 3",
   "language": "python",
   "name": "python3"
  },
  "language_info": {
   "codemirror_mode": {
    "name": "ipython",
    "version": 3
   },
   "file_extension": ".py",
   "mimetype": "text/x-python",
   "name": "python",
   "nbconvert_exporter": "python",
   "pygments_lexer": "ipython3",
   "version": "3.11.0"
  },
  "orig_nbformat": 4
 },
 "nbformat": 4,
 "nbformat_minor": 2
}
