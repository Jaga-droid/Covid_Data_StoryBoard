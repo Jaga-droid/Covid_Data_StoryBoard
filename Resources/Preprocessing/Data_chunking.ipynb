{
 "cells": [
  {
   "cell_type": "code",
   "execution_count": 1,
   "metadata": {},
   "outputs": [],
   "source": [
    "import pandas as pd\n",
    "import numpy as np\n",
    "import seaborn as sns"
   ]
  },
  {
   "cell_type": "code",
   "execution_count": 2,
   "metadata": {},
   "outputs": [],
   "source": [
    "full_data=pd.read_csv(\"https://raw.githubusercontent.com/owid/covid-19-data/master/public/data/owid-covid-data.csv\")"
   ]
  },
  {
   "cell_type": "code",
   "execution_count": 3,
   "metadata": {},
   "outputs": [
    {
     "data": {
      "text/plain": [
       "Index(['iso_code', 'continent', 'location', 'date', 'total_cases', 'new_cases',\n",
       "       'new_cases_smoothed', 'total_deaths', 'new_deaths',\n",
       "       'new_deaths_smoothed', 'total_cases_per_million',\n",
       "       'new_cases_per_million', 'new_cases_smoothed_per_million',\n",
       "       'total_deaths_per_million', 'new_deaths_per_million',\n",
       "       'new_deaths_smoothed_per_million', 'reproduction_rate', 'icu_patients',\n",
       "       'icu_patients_per_million', 'hosp_patients',\n",
       "       'hosp_patients_per_million', 'weekly_icu_admissions',\n",
       "       'weekly_icu_admissions_per_million', 'weekly_hosp_admissions',\n",
       "       'weekly_hosp_admissions_per_million', 'total_tests', 'new_tests',\n",
       "       'total_tests_per_thousand', 'new_tests_per_thousand',\n",
       "       'new_tests_smoothed', 'new_tests_smoothed_per_thousand',\n",
       "       'positive_rate', 'tests_per_case', 'tests_units', 'total_vaccinations',\n",
       "       'people_vaccinated', 'people_fully_vaccinated', 'total_boosters',\n",
       "       'new_vaccinations', 'new_vaccinations_smoothed',\n",
       "       'total_vaccinations_per_hundred', 'people_vaccinated_per_hundred',\n",
       "       'people_fully_vaccinated_per_hundred', 'total_boosters_per_hundred',\n",
       "       'new_vaccinations_smoothed_per_million',\n",
       "       'new_people_vaccinated_smoothed',\n",
       "       'new_people_vaccinated_smoothed_per_hundred', 'stringency_index',\n",
       "       'population_density', 'median_age', 'aged_65_older', 'aged_70_older',\n",
       "       'gdp_per_capita', 'extreme_poverty', 'cardiovasc_death_rate',\n",
       "       'diabetes_prevalence', 'female_smokers', 'male_smokers',\n",
       "       'handwashing_facilities', 'hospital_beds_per_thousand',\n",
       "       'life_expectancy', 'human_development_index', 'population',\n",
       "       'excess_mortality_cumulative_absolute', 'excess_mortality_cumulative',\n",
       "       'excess_mortality', 'excess_mortality_cumulative_per_million'],\n",
       "      dtype='object')"
      ]
     },
     "execution_count": 3,
     "metadata": {},
     "output_type": "execute_result"
    }
   ],
   "source": [
    "full_data.columns"
   ]
  },
  {
   "cell_type": "code",
   "execution_count": 82,
   "metadata": {},
   "outputs": [],
   "source": [
    "cases=pd.read_csv('https://raw.githubusercontent.com/owid/covid-19-data/master/public/data/cases_deaths/new_cases.csv')\n",
    "cases_total=pd.read_csv('https://raw.githubusercontent.com/owid/covid-19-data/master/public/data/cases_deaths/total_cases.csv')\n",
    "total_cases=pd.read_csv('https://raw.githubusercontent.com/owid/covid-19-data/master/public/data/cases_deaths/total_cases.csv')\n",
    "new_cases=pd.read_csv('https://raw.githubusercontent.com/owid/covid-19-data/master/public/data/cases_deaths/new_cases.csv')\n",
    "total_deaths=pd.read_csv('https://raw.githubusercontent.com/owid/covid-19-data/master/public/data/cases_deaths/total_deaths.csv')\n",
    "new_deaths=pd.read_csv('https://raw.githubusercontent.com/owid/covid-19-data/master/public/data/cases_deaths/new_deaths.csv')\n",
    "gdp_per_capita=full_data[['location','gdp_per_capita']]\n",
    "total_vaccination=full_data[['date','location','total_vaccinations']]\n",
    "new_vaccination=full_data[['date','location','new_vaccinations']]"
   ]
  },
  {
   "cell_type": "code",
   "execution_count": 45,
   "metadata": {},
   "outputs": [],
   "source": [
    "from functools import reduce\n",
    "df_list=[]\n",
    "for i in total_vaccination['location'].unique():\n",
    "    df1=total_vaccination[total_vaccination['location']==i]\n",
    "    df1=df1.fillna(0)\n",
    "    df1_temp=pd.DataFrame()\n",
    "    df1_temp['date']=df1['date']\n",
    "    df1_temp[i]=list(df1['total_vaccinations'].values)\n",
    "    df1_temp=df1_temp.reset_index(drop=True)\n",
    "    df_list.append(df1_temp)\n",
    "\n",
    "\n",
    "final_vaccination_total=reduce(lambda x,y: pd.merge(x,y, on='date', how='outer'),df_list)"
   ]
  },
  {
   "cell_type": "code",
   "execution_count": 51,
   "metadata": {},
   "outputs": [],
   "source": [
    "df_list=[]\n",
    "for i in new_vaccination['location'].unique():\n",
    "    df1=new_vaccination[new_vaccination['location']==i]\n",
    "    df1=df1.fillna(0)\n",
    "    df1_temp=pd.DataFrame()\n",
    "    df1_temp['date']=df1['date']\n",
    "    df1_temp[i]=list(df1['new_vaccinations'].values)\n",
    "    df1_temp=df1_temp.reset_index(drop=True)\n",
    "    df_list.append(df1_temp)\n",
    "\n",
    "\n",
    "new_vaccinations_total=reduce(lambda x,y: pd.merge(x,y, on='date', how='outer'),df_list)"
   ]
  },
  {
   "cell_type": "code",
   "execution_count": 74,
   "metadata": {},
   "outputs": [],
   "source": [
    "final_vaccination_total=final_vaccination_total.fillna(0)"
   ]
  },
  {
   "cell_type": "code",
   "execution_count": 73,
   "metadata": {},
   "outputs": [],
   "source": [
    "new_vaccinations_total=new_vaccinations_total.fillna(0)"
   ]
  },
  {
   "cell_type": "code",
   "execution_count": 84,
   "metadata": {},
   "outputs": [],
   "source": [
    "final_vaccination_total.to_csv('../DataSet/DataChunksets/total_vaccinations.csv')\n",
    "new_vaccinations_total.to_csv('../DataSet/DataChunksets/new_vaccinations.csv')\n",
    "gdp_per_capita.to_csv('../DataSet/DataChunksets/gdp_per_capita.csv')\n",
    "total_cases.to_csv('../DataSet/DataChunksets/total_cases.csv')\n",
    "total_deaths.to_csv('../DataSet/DataChunksets/total_deaths.csv')\n",
    "new_cases.to_csv('../DataSet/DataChunksets/new_cases.csv')\n",
    "new_deaths.to_csv('../DataSet/DataChunksets/new_deaths.csv')\n"
   ]
  },
  {
   "cell_type": "code",
   "execution_count": null,
   "metadata": {},
   "outputs": [],
   "source": []
  }
 ],
 "metadata": {
  "kernelspec": {
   "display_name": "Python 3",
   "language": "python",
   "name": "python3"
  },
  "language_info": {
   "codemirror_mode": {
    "name": "ipython",
    "version": 3
   },
   "file_extension": ".py",
   "mimetype": "text/x-python",
   "name": "python",
   "nbconvert_exporter": "python",
   "pygments_lexer": "ipython3",
   "version": "3.11.0"
  },
  "orig_nbformat": 4
 },
 "nbformat": 4,
 "nbformat_minor": 2
}
