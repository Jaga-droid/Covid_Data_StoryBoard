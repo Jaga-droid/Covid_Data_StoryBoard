{
 "cells": [
  {
   "cell_type": "code",
   "execution_count": 2,
   "metadata": {},
   "outputs": [],
   "source": [
    "import pandas as pd\n",
    "import numpy as np\n",
    "import seaborn as sns"
   ]
  },
  {
   "cell_type": "code",
   "execution_count": 22,
   "metadata": {},
   "outputs": [],
   "source": [
    "whole_data=pd.read_csv(\"https://raw.githubusercontent.com/owid/covid-19-data/master/public/data/vaccinations/vaccinations.csv\")\n",
    "vaccine_company=pd.read_csv(\"https://raw.githubusercontent.com/owid/covid-19-data/master/public/data/vaccinations/locations.csv\")\n",
    "full_data=pd.read_csv(\"https://raw.githubusercontent.com/owid/covid-19-data/master/public/data/owid-covid-data.csv\")"
   ]
  },
  {
   "cell_type": "code",
   "execution_count": 3,
   "metadata": {},
   "outputs": [],
   "source": [
    "whole_data=whole_data[['date','location','daily_people_vaccinated','total_boosters']]\n",
    "\n",
    "full_data=full_data[['date','location','reproduction_rate','total_cases']]"
   ]
  },
  {
   "cell_type": "code",
   "execution_count": 4,
   "metadata": {},
   "outputs": [],
   "source": [
    "full_data['date']=pd.to_datetime(full_data['date'], format=\"%Y/%m/%d\")\n",
    "whole_data['date']=pd.to_datetime(whole_data['date'], format=\"%Y/%m/%d\")"
   ]
  },
  {
   "cell_type": "code",
   "execution_count": 17,
   "metadata": {},
   "outputs": [],
   "source": [
    "mydata=full_data.merge(whole_data, how='inner', on='date')"
   ]
  },
  {
   "cell_type": "code",
   "execution_count": 21,
   "metadata": {},
   "outputs": [],
   "source": [
    "mydata['year']=mydata['date'].dt.strftime('%Y')"
   ]
  },
  {
   "cell_type": "code",
   "execution_count": 19,
   "metadata": {},
   "outputs": [],
   "source": [
    "mydata=mydata[['date','location_x','daily_people_vaccinated','total_boosters','reproduction_rate','total_cases','year']]\n"
   ]
  },
  {
   "cell_type": "code",
   "execution_count": 22,
   "metadata": {},
   "outputs": [
    {
     "data": {
      "text/html": [
       "<div>\n",
       "<style scoped>\n",
       "    .dataframe tbody tr th:only-of-type {\n",
       "        vertical-align: middle;\n",
       "    }\n",
       "\n",
       "    .dataframe tbody tr th {\n",
       "        vertical-align: top;\n",
       "    }\n",
       "\n",
       "    .dataframe thead th {\n",
       "        text-align: right;\n",
       "    }\n",
       "</style>\n",
       "<table border=\"1\" class=\"dataframe\">\n",
       "  <thead>\n",
       "    <tr style=\"text-align: right;\">\n",
       "      <th></th>\n",
       "      <th>date</th>\n",
       "      <th>location_x</th>\n",
       "      <th>daily_people_vaccinated</th>\n",
       "      <th>total_boosters</th>\n",
       "      <th>reproduction_rate</th>\n",
       "      <th>total_cases</th>\n",
       "      <th>year</th>\n",
       "    </tr>\n",
       "  </thead>\n",
       "  <tbody>\n",
       "    <tr>\n",
       "      <th>127512</th>\n",
       "      <td>2021-01-01</td>\n",
       "      <td>Afghanistan</td>\n",
       "      <td>7677.0</td>\n",
       "      <td>1.000000e+00</td>\n",
       "      <td>0.86</td>\n",
       "      <td>52513.0</td>\n",
       "      <td>2021</td>\n",
       "    </tr>\n",
       "    <tr>\n",
       "      <th>127513</th>\n",
       "      <td>2021-01-01</td>\n",
       "      <td>Afghanistan</td>\n",
       "      <td>118555.0</td>\n",
       "      <td>NaN</td>\n",
       "      <td>0.86</td>\n",
       "      <td>52513.0</td>\n",
       "      <td>2021</td>\n",
       "    </tr>\n",
       "    <tr>\n",
       "      <th>127514</th>\n",
       "      <td>2021-01-01</td>\n",
       "      <td>Afghanistan</td>\n",
       "      <td>1258.0</td>\n",
       "      <td>NaN</td>\n",
       "      <td>0.86</td>\n",
       "      <td>52513.0</td>\n",
       "      <td>2021</td>\n",
       "    </tr>\n",
       "    <tr>\n",
       "      <th>127515</th>\n",
       "      <td>2021-01-01</td>\n",
       "      <td>Afghanistan</td>\n",
       "      <td>403.0</td>\n",
       "      <td>NaN</td>\n",
       "      <td>0.86</td>\n",
       "      <td>52513.0</td>\n",
       "      <td>2021</td>\n",
       "    </tr>\n",
       "    <tr>\n",
       "      <th>127516</th>\n",
       "      <td>2021-01-01</td>\n",
       "      <td>Afghanistan</td>\n",
       "      <td>160.0</td>\n",
       "      <td>NaN</td>\n",
       "      <td>0.86</td>\n",
       "      <td>52513.0</td>\n",
       "      <td>2021</td>\n",
       "    </tr>\n",
       "    <tr>\n",
       "      <th>...</th>\n",
       "      <td>...</td>\n",
       "      <td>...</td>\n",
       "      <td>...</td>\n",
       "      <td>...</td>\n",
       "      <td>...</td>\n",
       "      <td>...</td>\n",
       "      <td>...</td>\n",
       "    </tr>\n",
       "    <tr>\n",
       "      <th>40401860</th>\n",
       "      <td>2023-03-12</td>\n",
       "      <td>World</td>\n",
       "      <td>28658.0</td>\n",
       "      <td>2.014403e+07</td>\n",
       "      <td>NaN</td>\n",
       "      <td>NaN</td>\n",
       "      <td>2023</td>\n",
       "    </tr>\n",
       "    <tr>\n",
       "      <th>40401861</th>\n",
       "      <td>2023-03-12</td>\n",
       "      <td>World</td>\n",
       "      <td>106.0</td>\n",
       "      <td>NaN</td>\n",
       "      <td>NaN</td>\n",
       "      <td>NaN</td>\n",
       "      <td>2023</td>\n",
       "    </tr>\n",
       "    <tr>\n",
       "      <th>40401862</th>\n",
       "      <td>2023-03-12</td>\n",
       "      <td>World</td>\n",
       "      <td>392.0</td>\n",
       "      <td>2.475785e+07</td>\n",
       "      <td>NaN</td>\n",
       "      <td>NaN</td>\n",
       "      <td>2023</td>\n",
       "    </tr>\n",
       "    <tr>\n",
       "      <th>40401863</th>\n",
       "      <td>2023-03-12</td>\n",
       "      <td>World</td>\n",
       "      <td>NaN</td>\n",
       "      <td>1.255552e+09</td>\n",
       "      <td>NaN</td>\n",
       "      <td>NaN</td>\n",
       "      <td>2023</td>\n",
       "    </tr>\n",
       "    <tr>\n",
       "      <th>40401864</th>\n",
       "      <td>2023-03-12</td>\n",
       "      <td>World</td>\n",
       "      <td>NaN</td>\n",
       "      <td>2.744191e+09</td>\n",
       "      <td>NaN</td>\n",
       "      <td>NaN</td>\n",
       "      <td>2023</td>\n",
       "    </tr>\n",
       "  </tbody>\n",
       "</table>\n",
       "<p>40274353 rows × 7 columns</p>\n",
       "</div>"
      ],
      "text/plain": [
       "               date   location_x  daily_people_vaccinated  total_boosters  \\\n",
       "127512   2021-01-01  Afghanistan                   7677.0    1.000000e+00   \n",
       "127513   2021-01-01  Afghanistan                 118555.0             NaN   \n",
       "127514   2021-01-01  Afghanistan                   1258.0             NaN   \n",
       "127515   2021-01-01  Afghanistan                    403.0             NaN   \n",
       "127516   2021-01-01  Afghanistan                    160.0             NaN   \n",
       "...             ...          ...                      ...             ...   \n",
       "40401860 2023-03-12        World                  28658.0    2.014403e+07   \n",
       "40401861 2023-03-12        World                    106.0             NaN   \n",
       "40401862 2023-03-12        World                    392.0    2.475785e+07   \n",
       "40401863 2023-03-12        World                      NaN    1.255552e+09   \n",
       "40401864 2023-03-12        World                      NaN    2.744191e+09   \n",
       "\n",
       "          reproduction_rate  total_cases  year  \n",
       "127512                 0.86      52513.0  2021  \n",
       "127513                 0.86      52513.0  2021  \n",
       "127514                 0.86      52513.0  2021  \n",
       "127515                 0.86      52513.0  2021  \n",
       "127516                 0.86      52513.0  2021  \n",
       "...                     ...          ...   ...  \n",
       "40401860                NaN          NaN  2023  \n",
       "40401861                NaN          NaN  2023  \n",
       "40401862                NaN          NaN  2023  \n",
       "40401863                NaN          NaN  2023  \n",
       "40401864                NaN          NaN  2023  \n",
       "\n",
       "[40274353 rows x 7 columns]"
      ]
     },
     "execution_count": 22,
     "metadata": {},
     "output_type": "execute_result"
    }
   ],
   "source": [
    "mydata=mydata[mydata['year'].isin(['2021','2022','2023'])]\n",
    "mydata"
   ]
  },
  {
   "cell_type": "code",
   "execution_count": null,
   "metadata": {},
   "outputs": [],
   "source": [
    "mydata=mydata[['location_x','daily_people_vaccinated','total_boosters','reproduction_rate','total_cases']].groupby('location_x').mean()"
   ]
  },
  {
   "cell_type": "code",
   "execution_count": 23,
   "metadata": {},
   "outputs": [],
   "source": [
    "vaccine_company['vaccine_list']=vaccine_company['vaccines'].apply(lambda x: x.split(','))"
   ]
  },
  {
   "cell_type": "code",
   "execution_count": 24,
   "metadata": {},
   "outputs": [],
   "source": [
    "vaccine_set = [item for sublist in list(vaccine_company['vaccine_list'].values) for item in sublist]\n",
    "\n",
    "# list(set(vaccine_set))\n"
   ]
  },
  {
   "cell_type": "code",
   "execution_count": 27,
   "metadata": {},
   "outputs": [
    {
     "data": {
      "text/plain": [
       "['Novavax',\n",
       " 'Sinovac',\n",
       " 'Valneva',\n",
       " 'Sputnik Light',\n",
       " 'EpiVacCorona',\n",
       " 'Sputnik V',\n",
       " 'IMBCAMS',\n",
       " 'CanSino',\n",
       " 'Sinopharm/Beijing',\n",
       " 'Soberana Plus',\n",
       " 'Corbevax',\n",
       " 'Sinopharm/Wuhan',\n",
       " 'Oxford/AstraZeneca',\n",
       " 'Soberana02',\n",
       " 'KoviVac/Chumakov',\n",
       " 'Turkovac',\n",
       " 'Moderna',\n",
       " 'Sanofi/GSK',\n",
       " 'Johnson&Johnson',\n",
       " 'Pfizer/BioNTech',\n",
       " 'ZF2001',\n",
       " 'Abdala',\n",
       " 'Medigen',\n",
       " 'QazVac',\n",
       " 'Covaxin',\n",
       " 'KCONVAC',\n",
       " 'COVIran Barekat',\n",
       " 'Medicago']"
      ]
     },
     "execution_count": 27,
     "metadata": {},
     "output_type": "execute_result"
    }
   ],
   "source": [
    "list(set([x.strip() for x in vaccine_set]))"
   ]
  },
  {
   "cell_type": "code",
   "execution_count": null,
   "metadata": {},
   "outputs": [],
   "source": []
  }
 ],
 "metadata": {
  "kernelspec": {
   "display_name": "Python 3",
   "language": "python",
   "name": "python3"
  },
  "language_info": {
   "codemirror_mode": {
    "name": "ipython",
    "version": 3
   },
   "file_extension": ".py",
   "mimetype": "text/x-python",
   "name": "python",
   "nbconvert_exporter": "python",
   "pygments_lexer": "ipython3",
   "version": "3.11.0"
  },
  "orig_nbformat": 4
 },
 "nbformat": 4,
 "nbformat_minor": 2
}
