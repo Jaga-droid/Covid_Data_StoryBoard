{
 "cells": [
  {
   "cell_type": "code",
   "execution_count": 1,
   "metadata": {},
   "outputs": [],
   "source": [
    "import pandas as pd"
   ]
  },
  {
   "cell_type": "code",
   "execution_count": 2,
   "metadata": {},
   "outputs": [],
   "source": [
    "full_data=pd.read_csv(\"https://raw.githubusercontent.com/owid/covid-19-data/master/public/data/owid-covid-data.csv\")"
   ]
  },
  {
   "cell_type": "code",
   "execution_count": 3,
   "metadata": {},
   "outputs": [
    {
     "data": {
      "text/html": [
       "<div>\n",
       "<style scoped>\n",
       "    .dataframe tbody tr th:only-of-type {\n",
       "        vertical-align: middle;\n",
       "    }\n",
       "\n",
       "    .dataframe tbody tr th {\n",
       "        vertical-align: top;\n",
       "    }\n",
       "\n",
       "    .dataframe thead th {\n",
       "        text-align: right;\n",
       "    }\n",
       "</style>\n",
       "<table border=\"1\" class=\"dataframe\">\n",
       "  <thead>\n",
       "    <tr style=\"text-align: right;\">\n",
       "      <th></th>\n",
       "      <th>total_cases</th>\n",
       "      <th>location</th>\n",
       "    </tr>\n",
       "    <tr>\n",
       "      <th>index</th>\n",
       "      <th></th>\n",
       "      <th></th>\n",
       "    </tr>\n",
       "  </thead>\n",
       "  <tbody>\n",
       "    <tr>\n",
       "      <th>0</th>\n",
       "      <td>1.123243e+05</td>\n",
       "      <td>Afghanistan</td>\n",
       "    </tr>\n",
       "    <tr>\n",
       "      <th>1</th>\n",
       "      <td>6.840584e+06</td>\n",
       "      <td>Africa</td>\n",
       "    </tr>\n",
       "    <tr>\n",
       "      <th>2</th>\n",
       "      <td>1.598191e+05</td>\n",
       "      <td>Albania</td>\n",
       "    </tr>\n",
       "    <tr>\n",
       "      <th>3</th>\n",
       "      <td>1.576180e+05</td>\n",
       "      <td>Algeria</td>\n",
       "    </tr>\n",
       "    <tr>\n",
       "      <th>4</th>\n",
       "      <td>2.286417e+03</td>\n",
       "      <td>American Samoa</td>\n",
       "    </tr>\n",
       "    <tr>\n",
       "      <th>...</th>\n",
       "      <td>...</td>\n",
       "      <td>...</td>\n",
       "    </tr>\n",
       "    <tr>\n",
       "      <th>250</th>\n",
       "      <td>0.000000e+00</td>\n",
       "      <td>Western Sahara</td>\n",
       "    </tr>\n",
       "    <tr>\n",
       "      <th>251</th>\n",
       "      <td>2.795134e+08</td>\n",
       "      <td>World</td>\n",
       "    </tr>\n",
       "    <tr>\n",
       "      <th>252</th>\n",
       "      <td>6.799801e+03</td>\n",
       "      <td>Yemen</td>\n",
       "    </tr>\n",
       "    <tr>\n",
       "      <th>253</th>\n",
       "      <td>1.692201e+05</td>\n",
       "      <td>Zambia</td>\n",
       "    </tr>\n",
       "    <tr>\n",
       "      <th>254</th>\n",
       "      <td>1.214206e+05</td>\n",
       "      <td>Zimbabwe</td>\n",
       "    </tr>\n",
       "  </tbody>\n",
       "</table>\n",
       "<p>255 rows × 2 columns</p>\n",
       "</div>"
      ],
      "text/plain": [
       "        total_cases        location\n",
       "index                              \n",
       "0      1.123243e+05     Afghanistan\n",
       "1      6.840584e+06          Africa\n",
       "2      1.598191e+05         Albania\n",
       "3      1.576180e+05         Algeria\n",
       "4      2.286417e+03  American Samoa\n",
       "...             ...             ...\n",
       "250    0.000000e+00  Western Sahara\n",
       "251    2.795134e+08           World\n",
       "252    6.799801e+03           Yemen\n",
       "253    1.692201e+05          Zambia\n",
       "254    1.214206e+05        Zimbabwe\n",
       "\n",
       "[255 rows x 2 columns]"
      ]
     },
     "execution_count": 3,
     "metadata": {},
     "output_type": "execute_result"
    }
   ],
   "source": [
    "total=full_data.copy()\n",
    "total=total.fillna(0)\n",
    "total=total[['total_cases','location']].groupby(['location']).mean()\n",
    "total['location']=list(total.index)\n",
    "total['index']=[x for x in range(0,len(total))]\n",
    "total=total.set_index('index')\n",
    "total\n",
    "# total.to_csv('../DataSet/total_pie.csv')"
   ]
  },
  {
   "cell_type": "code",
   "execution_count": 4,
   "metadata": {},
   "outputs": [
    {
     "data": {
      "text/html": [
       "<div>\n",
       "<style scoped>\n",
       "    .dataframe tbody tr th:only-of-type {\n",
       "        vertical-align: middle;\n",
       "    }\n",
       "\n",
       "    .dataframe tbody tr th {\n",
       "        vertical-align: top;\n",
       "    }\n",
       "\n",
       "    .dataframe thead th {\n",
       "        text-align: right;\n",
       "    }\n",
       "</style>\n",
       "<table border=\"1\" class=\"dataframe\">\n",
       "  <thead>\n",
       "    <tr style=\"text-align: right;\">\n",
       "      <th></th>\n",
       "      <th>continent</th>\n",
       "      <th>location</th>\n",
       "    </tr>\n",
       "  </thead>\n",
       "  <tbody>\n",
       "    <tr>\n",
       "      <th>0</th>\n",
       "      <td>Asia</td>\n",
       "      <td>Afghanistan</td>\n",
       "    </tr>\n",
       "    <tr>\n",
       "      <th>2336</th>\n",
       "      <td>Europe</td>\n",
       "      <td>Albania</td>\n",
       "    </tr>\n",
       "    <tr>\n",
       "      <th>3504</th>\n",
       "      <td>Africa</td>\n",
       "      <td>Algeria</td>\n",
       "    </tr>\n",
       "    <tr>\n",
       "      <th>4672</th>\n",
       "      <td>Oceania</td>\n",
       "      <td>American Samoa</td>\n",
       "    </tr>\n",
       "    <tr>\n",
       "      <th>5840</th>\n",
       "      <td>Europe</td>\n",
       "      <td>Andorra</td>\n",
       "    </tr>\n",
       "    <tr>\n",
       "      <th>...</th>\n",
       "      <td>...</td>\n",
       "      <td>...</td>\n",
       "    </tr>\n",
       "    <tr>\n",
       "      <th>289570</th>\n",
       "      <td>Oceania</td>\n",
       "      <td>Wallis and Futuna</td>\n",
       "    </tr>\n",
       "    <tr>\n",
       "      <th>290738</th>\n",
       "      <td>Africa</td>\n",
       "      <td>Western Sahara</td>\n",
       "    </tr>\n",
       "    <tr>\n",
       "      <th>291907</th>\n",
       "      <td>Asia</td>\n",
       "      <td>Yemen</td>\n",
       "    </tr>\n",
       "    <tr>\n",
       "      <th>293075</th>\n",
       "      <td>Africa</td>\n",
       "      <td>Zambia</td>\n",
       "    </tr>\n",
       "    <tr>\n",
       "      <th>294243</th>\n",
       "      <td>Africa</td>\n",
       "      <td>Zimbabwe</td>\n",
       "    </tr>\n",
       "  </tbody>\n",
       "</table>\n",
       "<p>243 rows × 2 columns</p>\n",
       "</div>"
      ],
      "text/plain": [
       "       continent           location\n",
       "0           Asia        Afghanistan\n",
       "2336      Europe            Albania\n",
       "3504      Africa            Algeria\n",
       "4672     Oceania     American Samoa\n",
       "5840      Europe            Andorra\n",
       "...          ...                ...\n",
       "289570   Oceania  Wallis and Futuna\n",
       "290738    Africa     Western Sahara\n",
       "291907      Asia              Yemen\n",
       "293075    Africa             Zambia\n",
       "294243    Africa           Zimbabwe\n",
       "\n",
       "[243 rows x 2 columns]"
      ]
     },
     "execution_count": 4,
     "metadata": {},
     "output_type": "execute_result"
    }
   ],
   "source": [
    "cont=full_data[['continent','location']]\n",
    "cont=cont.drop_duplicates()\n",
    "cont.dropna()"
   ]
  },
  {
   "cell_type": "code",
   "execution_count": 5,
   "metadata": {},
   "outputs": [
    {
     "data": {
      "text/plain": [
       "array(['Asia', 'null', 'Europe', 'Africa', 'Oceania', 'North America',\n",
       "       'South America'], dtype=object)"
      ]
     },
     "execution_count": 5,
     "metadata": {},
     "output_type": "execute_result"
    }
   ],
   "source": [
    "cont=cont.fillna('null')\n",
    "cont['continent'].unique()"
   ]
  },
  {
   "cell_type": "code",
   "execution_count": 6,
   "metadata": {},
   "outputs": [],
   "source": [
    "total=total[~total['location'].isin(['Asia', 'null', 'Europe', 'Africa', 'Oceania', 'North America','South America'])]"
   ]
  },
  {
   "cell_type": "code",
   "execution_count": 7,
   "metadata": {},
   "outputs": [
    {
     "data": {
      "text/html": [
       "<div>\n",
       "<style scoped>\n",
       "    .dataframe tbody tr th:only-of-type {\n",
       "        vertical-align: middle;\n",
       "    }\n",
       "\n",
       "    .dataframe tbody tr th {\n",
       "        vertical-align: top;\n",
       "    }\n",
       "\n",
       "    .dataframe thead th {\n",
       "        text-align: right;\n",
       "    }\n",
       "</style>\n",
       "<table border=\"1\" class=\"dataframe\">\n",
       "  <thead>\n",
       "    <tr style=\"text-align: right;\">\n",
       "      <th></th>\n",
       "      <th>continent</th>\n",
       "      <th>location</th>\n",
       "    </tr>\n",
       "  </thead>\n",
       "  <tbody>\n",
       "    <tr>\n",
       "      <th>0</th>\n",
       "      <td>Asia</td>\n",
       "      <td>Afghanistan</td>\n",
       "    </tr>\n",
       "    <tr>\n",
       "      <th>1</th>\n",
       "      <td>Europe</td>\n",
       "      <td>Albania</td>\n",
       "    </tr>\n",
       "    <tr>\n",
       "      <th>2</th>\n",
       "      <td>Africa</td>\n",
       "      <td>Algeria</td>\n",
       "    </tr>\n",
       "    <tr>\n",
       "      <th>3</th>\n",
       "      <td>Oceania</td>\n",
       "      <td>American Samoa</td>\n",
       "    </tr>\n",
       "    <tr>\n",
       "      <th>4</th>\n",
       "      <td>Europe</td>\n",
       "      <td>Andorra</td>\n",
       "    </tr>\n",
       "    <tr>\n",
       "      <th>...</th>\n",
       "      <td>...</td>\n",
       "      <td>...</td>\n",
       "    </tr>\n",
       "    <tr>\n",
       "      <th>243</th>\n",
       "      <td>Oceania</td>\n",
       "      <td>Wallis and Futuna</td>\n",
       "    </tr>\n",
       "    <tr>\n",
       "      <th>244</th>\n",
       "      <td>Africa</td>\n",
       "      <td>Western Sahara</td>\n",
       "    </tr>\n",
       "    <tr>\n",
       "      <th>246</th>\n",
       "      <td>Asia</td>\n",
       "      <td>Yemen</td>\n",
       "    </tr>\n",
       "    <tr>\n",
       "      <th>247</th>\n",
       "      <td>Africa</td>\n",
       "      <td>Zambia</td>\n",
       "    </tr>\n",
       "    <tr>\n",
       "      <th>248</th>\n",
       "      <td>Africa</td>\n",
       "      <td>Zimbabwe</td>\n",
       "    </tr>\n",
       "  </tbody>\n",
       "</table>\n",
       "<p>243 rows × 2 columns</p>\n",
       "</div>"
      ],
      "text/plain": [
       "    continent           location\n",
       "0        Asia        Afghanistan\n",
       "1      Europe            Albania\n",
       "2      Africa            Algeria\n",
       "3     Oceania     American Samoa\n",
       "4      Europe            Andorra\n",
       "..        ...                ...\n",
       "243   Oceania  Wallis and Futuna\n",
       "244    Africa     Western Sahara\n",
       "246      Asia              Yemen\n",
       "247    Africa             Zambia\n",
       "248    Africa           Zimbabwe\n",
       "\n",
       "[243 rows x 2 columns]"
      ]
     },
     "execution_count": 7,
     "metadata": {},
     "output_type": "execute_result"
    }
   ],
   "source": [
    "cont=cont[~cont['location'].isin(['Asia', 'null', 'Europe', 'Africa', 'Oceania', 'North America','South America'])]\n",
    "cont=cont.reset_index(drop=True)\n",
    "cont=cont[cont['continent']!='null']\n",
    "cont\n"
   ]
  },
  {
   "cell_type": "code",
   "execution_count": 8,
   "metadata": {},
   "outputs": [],
   "source": [
    "\n",
    "# cont=cont.sort_values(by='continent')\n",
    "mylist=cont.groupby('continent')['location'].agg(','.join)\n"
   ]
  },
  {
   "cell_type": "code",
   "execution_count": 9,
   "metadata": {},
   "outputs": [
    {
     "data": {
      "text/plain": [
       "279513385.58818495"
      ]
     },
     "execution_count": 9,
     "metadata": {},
     "output_type": "execute_result"
    }
   ],
   "source": [
    "total[total['location']=='World']['total_cases'].values[0]"
   ]
  },
  {
   "cell_type": "code",
   "execution_count": 10,
   "metadata": {},
   "outputs": [],
   "source": [
    "Asia={}\n",
    "for i in mylist['Asia'].split(','):\n",
    "    Asia[i]=total[total['location']==i]['total_cases'].values[0]"
   ]
  },
  {
   "cell_type": "code",
   "execution_count": 11,
   "metadata": {},
   "outputs": [],
   "source": [
    "Africa={}\n",
    "for i in mylist['Africa'].split(','):\n",
    "    Africa[i]=total[total['location']==i]['total_cases'].values[0]"
   ]
  },
  {
   "cell_type": "code",
   "execution_count": 12,
   "metadata": {},
   "outputs": [],
   "source": [
    "Europe={}\n",
    "for i in mylist['Europe'].split(','):\n",
    "    Europe[i]=total[total['location']==i]['total_cases'].values[0]"
   ]
  },
  {
   "cell_type": "code",
   "execution_count": 13,
   "metadata": {},
   "outputs": [],
   "source": [
    "North_America ={}\n",
    "for i in mylist['North America'].split(','):\n",
    "    North_America[i]=total[total['location']==i]['total_cases'].values[0]"
   ]
  },
  {
   "cell_type": "code",
   "execution_count": 14,
   "metadata": {},
   "outputs": [],
   "source": [
    "South_America ={}\n",
    "for i in mylist['South America'].split(','):\n",
    "    South_America[i]=total[total['location']==i]['total_cases'].values[0]"
   ]
  },
  {
   "cell_type": "code",
   "execution_count": 15,
   "metadata": {},
   "outputs": [],
   "source": [
    "Oceania ={}\n",
    "for i in mylist['Oceania'].split(','):\n",
    "    Oceania[i]=total[total['location']==i]['total_cases'].values[0]"
   ]
  },
  {
   "cell_type": "code",
   "execution_count": 19,
   "metadata": {},
   "outputs": [],
   "source": [
    "# Oceania\n",
    "oceania_df=pd.DataFrame({'Country':list(Oceania.keys()),'total_cases':list(Oceania.values())})\n",
    "asia_df=pd.DataFrame({'Country':list(Asia.keys()),'total_cases':list(Asia.values())})\n",
    "europe_df=pd.DataFrame({'Country':list(Europe.keys()),'total_cases':list(Europe.values())})\n",
    "northamerica_df=pd.DataFrame({'Country':list(North_America.keys()),'total_cases':list(North_America.values())})\n",
    "southamerica_df=pd.DataFrame({'Country':list(South_America.keys()),'total_cases':list(South_America.values())})\n",
    "africa_df=pd.DataFrame({'Country':list(Africa.keys()),'total_cases':list(Africa.values())})"
   ]
  },
  {
   "cell_type": "code",
   "execution_count": 20,
   "metadata": {},
   "outputs": [],
   "source": [
    "oceania_df=oceania_df.sort_values(by='total_cases',ascending=False)\n",
    "asia_df=asia_df.sort_values(by='total_cases',ascending=False)\n",
    "europe_df=europe_df.sort_values(by='total_cases',ascending=False)\n",
    "northamerica_df=northamerica_df.sort_values(by='total_cases',ascending=False)\n",
    "southamerica_df=southamerica_df.sort_values(by='total_cases',ascending=False)\n",
    "africa_df=africa_df.sort_values(by='total_cases',ascending=False)"
   ]
  },
  {
   "cell_type": "code",
   "execution_count": 21,
   "metadata": {},
   "outputs": [],
   "source": [
    "oceania_df.to_csv('oceania.csv')\n",
    "asia_df.to_csv('asia.csv')\n",
    "europe_df.to_csv('europe.csv')\n",
    "northamerica_df.to_csv('northamerica.csv')\n",
    "southamerica_df.to_csv('southamerica.csv')\n",
    "africa_df.to_csv('africa.csv')"
   ]
  },
  {
   "cell_type": "code",
   "execution_count": 44,
   "metadata": {},
   "outputs": [
    {
     "name": "stdout",
     "output_type": "stream",
     "text": [
      "Zimbabwe,Equatorial Guinea,Morocco,Egypt,Mozambique,Namibia,Djibouti,Eritrea,Democratic Republic of Congo,Nigeria,Congo,Comoros,Reunion,Chad,Central African Republic,Niger,Mayotte,Eswatini,Ethiopia,Guinea-Bissau,Guinea,Kenya,Lesotho,Liberia,Libya,Ghana,Zambia,Gambia,Gabon,Madagascar,Malawi,Mali,Mauritania,Mauritius,Rwanda,Cape Verde,Cote d'Ivoire,Cameroon,Tanzania,Uganda,Saint Helena,Sudan,Angola,Benin,South Sudan,South Africa,Somalia,Tunisia,Botswana,Sierra Leone,Togo,Algeria,Sao Tome and Principe,Seychelles,Burundi,Burkina Faso,Senegal,Western Sahara\n",
      "********************\n",
      "Kuwait,Turkey,Turkmenistan,Macao,United Arab Emirates,Iraq,Israel,Japan,Vietnam,Lebanon,Jordan,Kazakhstan,Kyrgyzstan,Yemen,Uzbekistan,Laos,Taiwan,Maldives,Saudi Arabia,Qatar,Philippines,Palestine,Pakistan,Iran,Oman,Northern Cyprus,North Korea,Singapore,Nepal,Myanmar,South Korea,Mongolia,Sri Lanka,Syria,Tajikistan,Thailand,Timor,Malaysia,Indonesia,Afghanistan,Bahrain,Cambodia,Bhutan,China,Bangladesh,Georgia,Azerbaijan,India,Brunei,Hong Kong,Armenia\n",
      "********************\n",
      "Croatia,Norway,Northern Ireland,Poland,Portugal,North Macedonia,Romania,Russia,Cyprus,San Marino,Czechia,Bulgaria,Iceland,Bosnia and Herzegovina,Serbia,Albania,Wales,Andorra,Vatican,United Kingdom,Ukraine,Austria,Belarus,Switzerland,Sweden,Belgium,Spain,Slovenia,Slovakia,Netherlands,Scotland,Denmark,Lithuania,Liechtenstein,Germany,Gibraltar,Greece,Finland,Malta,Latvia,Kosovo,Guernsey,Luxembourg,Faeroe Islands,Estonia,Jersey,France,Hungary,Moldova,Monaco,Ireland,Isle of Man,Italy,Montenegro,England\n",
      "********************\n",
      "Honduras,Montserrat,British Virgin Islands,Sint Maarten (Dutch part),Greenland,Bonaire Sint Eustatius and Saba,Grenada,Bermuda,Belize,Guadeloupe,Guatemala,Anguilla,Barbados,United States Virgin Islands,Bahamas,United States,Trinidad and Tobago,Aruba,Jamaica,Turks and Caicos Islands,Antigua and Barbuda,Haiti,El Salvador,Saint Vincent and the Grenadines,Nicaragua,Martinique,Cuba,Puerto Rico,Costa Rica,Mexico,Dominica,Saint Barthelemy,Cayman Islands,Dominican Republic,Saint Kitts and Nevis,Saint Lucia,Saint Martin (French part),Saint Pierre and Miquelon,Panama,Canada,Curacao\n",
      "********************\n",
      "Tuvalu,Northern Mariana Islands,Australia,New Caledonia,Niue,New Zealand,Vanuatu,Nauru,Wallis and Futuna,American Samoa,Micronesia (country),Tonga,Cook Islands,Palau,French Polynesia,Fiji,Solomon Islands,Tokelau,Guam,Marshall Islands,Pitcairn,Papua New Guinea,Samoa,Kiribati\n",
      "********************\n",
      "Ecuador,French Guiana,Guyana,Brazil,Venezuela,Argentina,Bolivia,Uruguay,Falkland Islands,Colombia,Suriname,Paraguay,Peru,Chile\n",
      "********************\n"
     ]
    }
   ],
   "source": [
    "continent_list\n",
    "for i in cont.groupby('continent')['location'].agg(','.join):\n",
    "    print(i)\n",
    "    print('*'*20)"
   ]
  },
  {
   "cell_type": "code",
   "execution_count": 78,
   "metadata": {},
   "outputs": [],
   "source": [
    "africa_df_sum=sum(africa_df['total_cases'].values)\n",
    "europe_df_sum=sum(europe_df['total_cases'].values)\n",
    "northamerica_df_sum=sum(northamerica_df['total_cases'].values)\n",
    "southamerica_df_sum=sum(southamerica_df['total_cases'].values)\n",
    "oceania_df_sum=sum(oceania_df['total_cases'].values)\n",
    "asia_df_sum=sum(asia_df['total_cases'].values)"
   ]
  },
  {
   "cell_type": "code",
   "execution_count": 85,
   "metadata": {},
   "outputs": [],
   "source": [
    "# africa_df['percent']=africa_df['total_cases']/africa_df_sum * 100\n",
    "\n",
    "europe_df['percent']=europe_df['total_cases']/europe_df_sum * 100\n",
    "\n",
    "northamerica_df['percent']=northamerica_df['total_cases']/northamerica_df_sum * 100\n",
    "\n",
    "southamerica_df['percent']=southamerica_df['total_cases']/southamerica_df_sum * 100\n",
    "\n",
    "oceania_df['percent']=oceania_df['total_cases']/oceania_df_sum * 100\n",
    "\n",
    "asia_df['percent']=asia_df['total_cases']/asia_df_sum * 100"
   ]
  },
  {
   "cell_type": "code",
   "execution_count": 1,
   "metadata": {},
   "outputs": [
    {
     "ename": "NameError",
     "evalue": "name 'asia_df' is not defined",
     "output_type": "error",
     "traceback": [
      "\u001b[1;31m---------------------------------------------------------------------------\u001b[0m",
      "\u001b[1;31mNameError\u001b[0m                                 Traceback (most recent call last)",
      "Cell \u001b[1;32mIn[1], line 1\u001b[0m\n\u001b[1;32m----> 1\u001b[0m asia_df\n",
      "\u001b[1;31mNameError\u001b[0m: name 'asia_df' is not defined"
     ]
    }
   ],
   "source": [
    "asia_df"
   ]
  },
  {
   "cell_type": "code",
   "execution_count": null,
   "metadata": {},
   "outputs": [],
   "source": []
  }
 ],
 "metadata": {
  "kernelspec": {
   "display_name": "Python 3",
   "language": "python",
   "name": "python3"
  },
  "language_info": {
   "codemirror_mode": {
    "name": "ipython",
    "version": 3
   },
   "file_extension": ".py",
   "mimetype": "text/x-python",
   "name": "python",
   "nbconvert_exporter": "python",
   "pygments_lexer": "ipython3",
   "version": "3.11.0"
  },
  "orig_nbformat": 4
 },
 "nbformat": 4,
 "nbformat_minor": 2
}
