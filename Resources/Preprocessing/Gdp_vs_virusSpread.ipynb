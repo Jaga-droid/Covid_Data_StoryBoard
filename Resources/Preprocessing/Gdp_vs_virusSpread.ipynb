{
 "cells": [
  {
   "cell_type": "code",
   "execution_count": 1,
   "metadata": {},
   "outputs": [],
   "source": [
    "import pandas as pd\n",
    "import numpy as np\n",
    "import seaborn as sns"
   ]
  },
  {
   "cell_type": "code",
   "execution_count": 2,
   "metadata": {},
   "outputs": [],
   "source": [
    "whole_data=pd.read_csv(\"https://raw.githubusercontent.com/owid/covid-19-data/master/public/data/owid-covid-data.csv\")"
   ]
  },
  {
   "cell_type": "code",
   "execution_count": 3,
   "metadata": {},
   "outputs": [],
   "source": [
    "mydata=whole_data.copy()"
   ]
  },
  {
   "cell_type": "code",
   "execution_count": 7,
   "metadata": {},
   "outputs": [
    {
     "data": {
      "text/html": [
       "<div>\n",
       "<style scoped>\n",
       "    .dataframe tbody tr th:only-of-type {\n",
       "        vertical-align: middle;\n",
       "    }\n",
       "\n",
       "    .dataframe tbody tr th {\n",
       "        vertical-align: top;\n",
       "    }\n",
       "\n",
       "    .dataframe thead th {\n",
       "        text-align: right;\n",
       "    }\n",
       "</style>\n",
       "<table border=\"1\" class=\"dataframe\">\n",
       "  <thead>\n",
       "    <tr style=\"text-align: right;\">\n",
       "      <th></th>\n",
       "      <th>new_cases</th>\n",
       "      <th>reproduction_rate</th>\n",
       "      <th>gdp_per_capita</th>\n",
       "      <th>population</th>\n",
       "    </tr>\n",
       "    <tr>\n",
       "      <th>location</th>\n",
       "      <th></th>\n",
       "      <th></th>\n",
       "      <th></th>\n",
       "      <th></th>\n",
       "    </tr>\n",
       "  </thead>\n",
       "  <tbody>\n",
       "    <tr>\n",
       "      <th>Afghanistan</th>\n",
       "      <td>180.685936</td>\n",
       "      <td>1.048525</td>\n",
       "      <td>1803.987</td>\n",
       "      <td>4.112877e+07</td>\n",
       "    </tr>\n",
       "    <tr>\n",
       "      <th>Africa</th>\n",
       "      <td>11254.318103</td>\n",
       "      <td>NaN</td>\n",
       "      <td>NaN</td>\n",
       "      <td>1.426737e+09</td>\n",
       "    </tr>\n",
       "    <tr>\n",
       "      <th>Albania</th>\n",
       "      <td>287.527586</td>\n",
       "      <td>1.028571</td>\n",
       "      <td>11803.431</td>\n",
       "      <td>2.842318e+06</td>\n",
       "    </tr>\n",
       "    <tr>\n",
       "      <th>Algeria</th>\n",
       "      <td>234.019828</td>\n",
       "      <td>1.003451</td>\n",
       "      <td>13913.839</td>\n",
       "      <td>4.490323e+07</td>\n",
       "    </tr>\n",
       "    <tr>\n",
       "      <th>American Samoa</th>\n",
       "      <td>7.172414</td>\n",
       "      <td>NaN</td>\n",
       "      <td>NaN</td>\n",
       "      <td>4.429500e+04</td>\n",
       "    </tr>\n",
       "    <tr>\n",
       "      <th>...</th>\n",
       "      <td>...</td>\n",
       "      <td>...</td>\n",
       "      <td>...</td>\n",
       "      <td>...</td>\n",
       "    </tr>\n",
       "    <tr>\n",
       "      <th>Western Sahara</th>\n",
       "      <td>NaN</td>\n",
       "      <td>NaN</td>\n",
       "      <td>NaN</td>\n",
       "      <td>5.760050e+05</td>\n",
       "    </tr>\n",
       "    <tr>\n",
       "      <th>World</th>\n",
       "      <td>654683.505172</td>\n",
       "      <td>1.070158</td>\n",
       "      <td>15469.207</td>\n",
       "      <td>7.975105e+09</td>\n",
       "    </tr>\n",
       "    <tr>\n",
       "      <th>Yemen</th>\n",
       "      <td>10.297414</td>\n",
       "      <td>0.701424</td>\n",
       "      <td>1479.147</td>\n",
       "      <td>3.369661e+07</td>\n",
       "    </tr>\n",
       "    <tr>\n",
       "      <th>Zambia</th>\n",
       "      <td>295.650000</td>\n",
       "      <td>0.929969</td>\n",
       "      <td>3689.251</td>\n",
       "      <td>2.001767e+07</td>\n",
       "    </tr>\n",
       "    <tr>\n",
       "      <th>Zimbabwe</th>\n",
       "      <td>227.695690</td>\n",
       "      <td>0.977674</td>\n",
       "      <td>1899.775</td>\n",
       "      <td>1.632054e+07</td>\n",
       "    </tr>\n",
       "  </tbody>\n",
       "</table>\n",
       "<p>255 rows × 4 columns</p>\n",
       "</div>"
      ],
      "text/plain": [
       "                    new_cases  reproduction_rate  gdp_per_capita    population\n",
       "location                                                                      \n",
       "Afghanistan        180.685936           1.048525        1803.987  4.112877e+07\n",
       "Africa           11254.318103                NaN             NaN  1.426737e+09\n",
       "Albania            287.527586           1.028571       11803.431  2.842318e+06\n",
       "Algeria            234.019828           1.003451       13913.839  4.490323e+07\n",
       "American Samoa       7.172414                NaN             NaN  4.429500e+04\n",
       "...                       ...                ...             ...           ...\n",
       "Western Sahara            NaN                NaN             NaN  5.760050e+05\n",
       "World           654683.505172           1.070158       15469.207  7.975105e+09\n",
       "Yemen               10.297414           0.701424        1479.147  3.369661e+07\n",
       "Zambia             295.650000           0.929969        3689.251  2.001767e+07\n",
       "Zimbabwe           227.695690           0.977674        1899.775  1.632054e+07\n",
       "\n",
       "[255 rows x 4 columns]"
      ]
     },
     "execution_count": 7,
     "metadata": {},
     "output_type": "execute_result"
    }
   ],
   "source": [
    "mydata[['location','new_cases','reproduction_rate','gdp_per_capita','population']].groupby('location').mean()"
   ]
  },
  {
   "cell_type": "code",
   "execution_count": 1,
   "metadata": {},
   "outputs": [
    {
     "ename": "NameError",
     "evalue": "name 'mydata' is not defined",
     "output_type": "error",
     "traceback": [
      "\u001b[1;31m---------------------------------------------------------------------------\u001b[0m",
      "\u001b[1;31mNameError\u001b[0m                                 Traceback (most recent call last)",
      "Cell \u001b[1;32mIn[1], line 1\u001b[0m\n\u001b[1;32m----> 1\u001b[0m mydata\n",
      "\u001b[1;31mNameError\u001b[0m: name 'mydata' is not defined"
     ]
    }
   ],
   "source": [
    "mydata"
   ]
  },
  {
   "cell_type": "code",
   "execution_count": null,
   "metadata": {},
   "outputs": [],
   "source": []
  }
 ],
 "metadata": {
  "kernelspec": {
   "display_name": "Python 3",
   "language": "python",
   "name": "python3"
  },
  "language_info": {
   "codemirror_mode": {
    "name": "ipython",
    "version": 3
   },
   "file_extension": ".py",
   "mimetype": "text/x-python",
   "name": "python",
   "nbconvert_exporter": "python",
   "pygments_lexer": "ipython3",
   "version": "3.11.0"
  },
  "orig_nbformat": 4
 },
 "nbformat": 4,
 "nbformat_minor": 2
}
